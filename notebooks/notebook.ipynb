{
 "cells": [
  {
   "cell_type": "code",
   "execution_count": 1,
   "id": "16452216",
   "metadata": {},
   "outputs": [
    {
     "name": "stdout",
     "output_type": "stream",
     "text": [
      "Addition: 15\n",
      "Subtraction: 5\n",
      "Multiplication: 50\n",
      "Division: 2.0\n"
     ]
    }
   ],
   "source": [
    "# Basic math operations\n",
    "\n",
    "def add(a, b):\n",
    "  \"\"\"Returns the sum of a and b.\"\"\"\n",
    "  return a + b\n",
    "\n",
    "def subtract(a, b):\n",
    "  \"\"\"Returns the difference of a and b.\"\"\"\n",
    "  return a - b\n",
    "\n",
    "def multiply(a, b):\n",
    "  \"\"\"Returns the product of a and b.\"\"\"\n",
    "  return a * b\n",
    "\n",
    "def divide(a, b):\n",
    "  \"\"\"Returns the division of a by b. Raises an error if b is zero.\"\"\"\n",
    "  if b == 0:\n",
    "    raise ValueError(\"Cannot divide by zero.\")\n",
    "  return a / b\n",
    "\n",
    "# Example usage\n",
    "x = 10\n",
    "y = 5\n",
    "\n",
    "print(\"Addition:\", add(x, y))\n",
    "print(\"Subtraction:\", subtract(x, y))\n",
    "print(\"Multiplication:\", multiply(x, y))\n",
    "print(\"Division:\", divide(x, y))"
   ]
  }
 ],
 "metadata": {
  "kernelspec": {
   "display_name": ".venv",
   "language": "python",
   "name": "python3"
  },
  "language_info": {
   "codemirror_mode": {
    "name": "ipython",
    "version": 3
   },
   "file_extension": ".py",
   "mimetype": "text/x-python",
   "name": "python",
   "nbconvert_exporter": "python",
   "pygments_lexer": "ipython3",
   "version": "3.13.0"
  }
 },
 "nbformat": 4,
 "nbformat_minor": 5
}
